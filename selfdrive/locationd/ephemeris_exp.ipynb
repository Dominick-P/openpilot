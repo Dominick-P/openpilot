{
 "cells": [
  {
   "cell_type": "code",
   "execution_count": 2,
   "outputs": [
    {
     "name": "stderr",
     "output_type": "stream",
     "text": [
      "kj/filesystem-disk-unix.c++:1690: warning: PWD environment variable doesn't match current directory; pwd = /home/gijs/code_projects/openpilot\n"
     ]
    }
   ],
   "source": [
    "import pickle\n",
    "import numpy as np\n",
    "\n",
    "import laika.raw_gnss as raw\n",
    "from cereal import messaging\n",
    "from laika import AstroDog, helpers\n",
    "from laika.gps_time import GPSTime\n",
    "from laika.raw_gnss import read_raw_ublox\n"
   ],
   "metadata": {
    "collapsed": false,
    "pycharm": {
     "name": "#%%\n"
    }
   }
  },
  {
   "cell_type": "code",
   "execution_count": 12,
   "outputs": [
    {
     "ename": "KeyboardInterrupt",
     "evalue": "",
     "output_type": "error",
     "traceback": [
      "\u001B[0;31m---------------------------------------------------------------------------\u001B[0m",
      "\u001B[0;31mKeyboardInterrupt\u001B[0m                         Traceback (most recent call last)",
      "Input \u001B[0;32mIn [12]\u001B[0m, in \u001B[0;36m<cell line: 15>\u001B[0;34m()\u001B[0m\n\u001B[1;32m     13\u001B[0m dog \u001B[38;5;241m=\u001B[39m AstroDog(valid_const\u001B[38;5;241m=\u001B[39m[\u001B[38;5;124m'\u001B[39m\u001B[38;5;124mGPS\u001B[39m\u001B[38;5;124m'\u001B[39m, \u001B[38;5;124m'\u001B[39m\u001B[38;5;124mGLONASS\u001B[39m\u001B[38;5;124m'\u001B[39m])\n\u001B[1;32m     15\u001B[0m \u001B[38;5;28;01mfor\u001B[39;00m ublox \u001B[38;5;129;01min\u001B[39;00m raw_replay[\u001B[38;5;124m'\u001B[39m\u001B[38;5;124mraw_ephemeris\u001B[39m\u001B[38;5;124m'\u001B[39m]:\n\u001B[1;32m     16\u001B[0m   \u001B[38;5;66;03m# print(\"processing\")\u001B[39;00m\n\u001B[0;32m---> 17\u001B[0m   \u001B[43mprocess\u001B[49m\u001B[43m(\u001B[49m\u001B[43mublox\u001B[49m\u001B[43m)\u001B[49m\n\u001B[1;32m     18\u001B[0m \u001B[38;5;28mprint\u001B[39m(\u001B[38;5;28mlen\u001B[39m(ephemeris_measurements))\n",
      "Input \u001B[0;32mIn [12]\u001B[0m, in \u001B[0;36mprocess\u001B[0;34m(ubloxGnss)\u001B[0m\n\u001B[1;32m      2\u001B[0m \u001B[38;5;28;01mdef\u001B[39;00m \u001B[38;5;21mprocess\u001B[39m(ubloxGnss):\n\u001B[1;32m      3\u001B[0m   \u001B[38;5;66;03m# Can also be 'measurementReport', 'ephemeris', 'ionoData', 'hwStatus', 'hwStatus2'\u001B[39;00m\n\u001B[1;32m      5\u001B[0m   \u001B[38;5;28;01mif\u001B[39;00m ubloxGnss\u001B[38;5;241m.\u001B[39mwhich \u001B[38;5;241m==\u001B[39m \u001B[38;5;124m'\u001B[39m\u001B[38;5;124mephemeris\u001B[39m\u001B[38;5;124m'\u001B[39m:\n\u001B[0;32m----> 6\u001B[0m     \u001B[43mephemeris_measurements\u001B[49m\u001B[38;5;241m.\u001B[39mappend(ubloxGnss\u001B[38;5;241m.\u001B[39mephemeris)\n",
      "Input \u001B[0;32mIn [12]\u001B[0m, in \u001B[0;36mprocess\u001B[0;34m(ubloxGnss)\u001B[0m\n\u001B[1;32m      2\u001B[0m \u001B[38;5;28;01mdef\u001B[39;00m \u001B[38;5;21mprocess\u001B[39m(ubloxGnss):\n\u001B[1;32m      3\u001B[0m   \u001B[38;5;66;03m# Can also be 'measurementReport', 'ephemeris', 'ionoData', 'hwStatus', 'hwStatus2'\u001B[39;00m\n\u001B[1;32m      5\u001B[0m   \u001B[38;5;28;01mif\u001B[39;00m ubloxGnss\u001B[38;5;241m.\u001B[39mwhich \u001B[38;5;241m==\u001B[39m \u001B[38;5;124m'\u001B[39m\u001B[38;5;124mephemeris\u001B[39m\u001B[38;5;124m'\u001B[39m:\n\u001B[0;32m----> 6\u001B[0m     \u001B[43mephemeris_measurements\u001B[49m\u001B[38;5;241m.\u001B[39mappend(ubloxGnss\u001B[38;5;241m.\u001B[39mephemeris)\n",
      "File \u001B[0;32m~/Downloads/pycharm-2021.3.2/plugins/python/helpers/pydev/_pydevd_bundle/pydevd_frame.py:747\u001B[0m, in \u001B[0;36mPyDBFrame.trace_dispatch\u001B[0;34m(self, frame, event, arg)\u001B[0m\n\u001B[1;32m    745\u001B[0m \u001B[38;5;66;03m# if thread has a suspend flag, we suspend with a busy wait\u001B[39;00m\n\u001B[1;32m    746\u001B[0m \u001B[38;5;28;01mif\u001B[39;00m info\u001B[38;5;241m.\u001B[39mpydev_state \u001B[38;5;241m==\u001B[39m STATE_SUSPEND:\n\u001B[0;32m--> 747\u001B[0m     \u001B[38;5;28;43mself\u001B[39;49m\u001B[38;5;241;43m.\u001B[39;49m\u001B[43mdo_wait_suspend\u001B[49m\u001B[43m(\u001B[49m\u001B[43mthread\u001B[49m\u001B[43m,\u001B[49m\u001B[43m \u001B[49m\u001B[43mframe\u001B[49m\u001B[43m,\u001B[49m\u001B[43m \u001B[49m\u001B[43mevent\u001B[49m\u001B[43m,\u001B[49m\u001B[43m \u001B[49m\u001B[43marg\u001B[49m\u001B[43m)\u001B[49m\n\u001B[1;32m    748\u001B[0m     \u001B[38;5;66;03m# No need to reset frame.f_trace to keep the same trace function.\u001B[39;00m\n\u001B[1;32m    749\u001B[0m     \u001B[38;5;28;01mreturn\u001B[39;00m \u001B[38;5;28mself\u001B[39m\u001B[38;5;241m.\u001B[39mtrace_dispatch\n",
      "File \u001B[0;32m~/Downloads/pycharm-2021.3.2/plugins/python/helpers/pydev/_pydevd_bundle/pydevd_frame.py:144\u001B[0m, in \u001B[0;36mPyDBFrame.do_wait_suspend\u001B[0;34m(self, *args, **kwargs)\u001B[0m\n\u001B[1;32m    143\u001B[0m \u001B[38;5;28;01mdef\u001B[39;00m \u001B[38;5;21mdo_wait_suspend\u001B[39m(\u001B[38;5;28mself\u001B[39m, \u001B[38;5;241m*\u001B[39margs, \u001B[38;5;241m*\u001B[39m\u001B[38;5;241m*\u001B[39mkwargs):\n\u001B[0;32m--> 144\u001B[0m     \u001B[38;5;28;43mself\u001B[39;49m\u001B[38;5;241;43m.\u001B[39;49m\u001B[43m_args\u001B[49m\u001B[43m[\u001B[49m\u001B[38;5;241;43m0\u001B[39;49m\u001B[43m]\u001B[49m\u001B[38;5;241;43m.\u001B[39;49m\u001B[43mdo_wait_suspend\u001B[49m\u001B[43m(\u001B[49m\u001B[38;5;241;43m*\u001B[39;49m\u001B[43margs\u001B[49m\u001B[43m,\u001B[49m\u001B[43m \u001B[49m\u001B[38;5;241;43m*\u001B[39;49m\u001B[38;5;241;43m*\u001B[39;49m\u001B[43mkwargs\u001B[49m\u001B[43m)\u001B[49m\n",
      "File \u001B[0;32m~/Downloads/pycharm-2021.3.2/plugins/python/helpers/pydev/pydevd.py:1147\u001B[0m, in \u001B[0;36mPyDB.do_wait_suspend\u001B[0;34m(self, thread, frame, event, arg, send_suspend_message, is_unhandled_exception)\u001B[0m\n\u001B[1;32m   1144\u001B[0m         from_this_thread\u001B[38;5;241m.\u001B[39mappend(frame_id)\n\u001B[1;32m   1146\u001B[0m \u001B[38;5;28;01mwith\u001B[39;00m \u001B[38;5;28mself\u001B[39m\u001B[38;5;241m.\u001B[39m_threads_suspended_single_notification\u001B[38;5;241m.\u001B[39mnotify_thread_suspended(thread_id, stop_reason):\n\u001B[0;32m-> 1147\u001B[0m     \u001B[38;5;28;43mself\u001B[39;49m\u001B[38;5;241;43m.\u001B[39;49m\u001B[43m_do_wait_suspend\u001B[49m\u001B[43m(\u001B[49m\u001B[43mthread\u001B[49m\u001B[43m,\u001B[49m\u001B[43m \u001B[49m\u001B[43mframe\u001B[49m\u001B[43m,\u001B[49m\u001B[43m \u001B[49m\u001B[43mevent\u001B[49m\u001B[43m,\u001B[49m\u001B[43m \u001B[49m\u001B[43marg\u001B[49m\u001B[43m,\u001B[49m\u001B[43m \u001B[49m\u001B[43msuspend_type\u001B[49m\u001B[43m,\u001B[49m\u001B[43m \u001B[49m\u001B[43mfrom_this_thread\u001B[49m\u001B[43m)\u001B[49m\n",
      "File \u001B[0;32m~/Downloads/pycharm-2021.3.2/plugins/python/helpers/pydev/pydevd.py:1162\u001B[0m, in \u001B[0;36mPyDB._do_wait_suspend\u001B[0;34m(self, thread, frame, event, arg, suspend_type, from_this_thread)\u001B[0m\n\u001B[1;32m   1159\u001B[0m             \u001B[38;5;28mself\u001B[39m\u001B[38;5;241m.\u001B[39m_call_mpl_hook()\n\u001B[1;32m   1161\u001B[0m         \u001B[38;5;28mself\u001B[39m\u001B[38;5;241m.\u001B[39mprocess_internal_commands()\n\u001B[0;32m-> 1162\u001B[0m         \u001B[43mtime\u001B[49m\u001B[38;5;241;43m.\u001B[39;49m\u001B[43msleep\u001B[49m\u001B[43m(\u001B[49m\u001B[38;5;241;43m0.01\u001B[39;49m\u001B[43m)\u001B[49m\n\u001B[1;32m   1164\u001B[0m \u001B[38;5;28mself\u001B[39m\u001B[38;5;241m.\u001B[39mcancel_async_evaluation(get_current_thread_id(thread), \u001B[38;5;28mstr\u001B[39m(\u001B[38;5;28mid\u001B[39m(frame)))\n\u001B[1;32m   1166\u001B[0m \u001B[38;5;66;03m# process any stepping instructions\u001B[39;00m\n",
      "\u001B[0;31mKeyboardInterrupt\u001B[0m: "
     ]
    }
   ],
   "source": [
    "from laika.raw_gnss import calc_pos_fix, calc_vel_fix, correct_measurements, group_measurements_by_epoch,  group_measurements_by_sat,  process_measurements\n",
    "def process(ubloxGnss):\n",
    "  # Can also be 'measurementReport', 'ephemeris', 'ionoData', 'hwStatus', 'hwStatus2'\n",
    "\n",
    "  if ubloxGnss.which == 'ephemeris':\n",
    "    ephemeris_measurements.append(ubloxGnss.ephemeris)\n",
    "\n",
    "filename = 'ephemeris_20.pickle'\n",
    "handle = open(filename, 'rb')\n",
    "raw_replay = pickle.load(handle)\n",
    "\n",
    "ephemeris_measurements = []\n",
    "dog = AstroDog(valid_const=['GPS', 'GLONASS'])\n",
    "\n",
    "for ublox in raw_replay['raw_ephemeris']:\n",
    "  # print(\"processing\")\n",
    "  process(ublox)\n",
    "print(len(ephemeris_measurements))\n"
   ],
   "metadata": {
    "collapsed": false,
    "pycharm": {
     "name": "#%%\n"
    }
   }
  },
  {
   "cell_type": "code",
   "execution_count": null,
   "outputs": [],
   "source": [
    "from laika.ephemeris import parse_ublox_ephems\n",
    "from laika.raw_gnss import group_measurements_by_sat, process_measurements\n",
    "from math import ceil\n",
    "\n",
    "print(\"Grouping\")\n",
    "# measurements_by_epoch = group_measurements_by_epoch(measurements)\n",
    "\n",
    "proc_meas = []\n",
    "pos_solutions, vel_solutions = [], []\n",
    "corrected_measurements_by_epoch = []\n",
    "parse_ublox_ephems()\n",
    "for meas_epoch in ephemeris_measurements[::2]:\n",
    "\n",
    "  # pos_fix = calc_pos_fix(processed)\n",
    "  # # can be none if less than 6 satellites\n",
    "  # if len(pos_fix) > 0:\n",
    "  #   est_pos = pos_fix[0][:3]\n",
    "  #   corrected = correct_measurements(meas_epoch, est_pos, dog)\n",
    "  #   corrected_measurements_by_epoch.append(corrected)\n",
    "  #   pos_solutions.append(calc_pos_fix(corrected))\n",
    "  #   # you need an estimate position to calculate a velocity fix\n",
    "  #   vel_solutions.append(calc_vel_fix(corrected, pos_solutions[-1][0]))"
   ],
   "metadata": {
    "collapsed": false,
    "pycharm": {
     "name": "#%%\n"
    }
   }
  },
  {
   "cell_type": "code",
   "execution_count": null,
   "outputs": [],
   "source": [
    "\n",
    "receiver_pos_solutions = np.zeros((len(pos_solutions), 3))\n",
    "for i, p in enumerate(pos_solutions):\n",
    "  receiver_pos_solutions[i] = p[0][:3]\n",
    "\n",
    "import matplotlib.pyplot as plt\n",
    "plt.figure(figsize=(10,10))\n",
    "plt.subplot(1, 2, 1)\n",
    "plt.scatter(receiver_pos_solutions[:, 0], receiver_pos_solutions[:, 1])\n",
    "plt.show()\n",
    "# print(pos_solutions[1])\n",
    "\n",
    "plt.figure()\n",
    "plt.title('Residuals of pseudoranges in positions solutions (m)', fontsize=25)\n",
    "sns.histplot(np.concatenate([sol[1] for sol in pos_solutions]), bins=arange(-5, 5, .5), kde=False, stat=\"density\", linewidth=0)\n",
    "plt.xlim(-5, 5)\n"
   ],
   "metadata": {
    "collapsed": false,
    "pycharm": {
     "name": "#%%\n"
    }
   }
  }
 ],
 "metadata": {
  "kernelspec": {
   "display_name": "Python 3 (ipykernel)",
   "language": "python",
   "name": "python3"
  },
  "language_info": {
   "codemirror_mode": {
    "name": "ipython",
    "version": 3
   },
   "file_extension": ".py",
   "mimetype": "text/x-python",
   "name": "python",
   "nbconvert_exporter": "python",
   "pygments_lexer": "ipython3",
   "version": "3.8.10"
  }
 },
 "nbformat": 4,
 "nbformat_minor": 1
}